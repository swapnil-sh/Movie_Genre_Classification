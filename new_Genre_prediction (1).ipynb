{
 "cells": [
  {
   "cell_type": "code",
   "execution_count": 1,
   "metadata": {},
   "outputs": [],
   "source": [
    "import numpy as np\n",
    "import pandas as pd\n",
    "import nltk\n",
    "import re"
   ]
  },
  {
   "cell_type": "code",
   "execution_count": 2,
   "metadata": {
    "scrolled": true
   },
   "outputs": [
    {
     "data": {
      "text/html": [
       "<div>\n",
       "<style scoped>\n",
       "    .dataframe tbody tr th:only-of-type {\n",
       "        vertical-align: middle;\n",
       "    }\n",
       "\n",
       "    .dataframe tbody tr th {\n",
       "        vertical-align: top;\n",
       "    }\n",
       "\n",
       "    .dataframe thead th {\n",
       "        text-align: right;\n",
       "    }\n",
       "</style>\n",
       "<table border=\"1\" class=\"dataframe\">\n",
       "  <thead>\n",
       "    <tr style=\"text-align: right;\">\n",
       "      <th></th>\n",
       "      <th>title</th>\n",
       "      <th>plot</th>\n",
       "      <th>Action</th>\n",
       "      <th>Adult</th>\n",
       "      <th>Adventure</th>\n",
       "      <th>Animation</th>\n",
       "      <th>Biography</th>\n",
       "      <th>Comedy</th>\n",
       "      <th>Crime</th>\n",
       "      <th>Documentary</th>\n",
       "      <th>...</th>\n",
       "      <th>News</th>\n",
       "      <th>Reality-TV</th>\n",
       "      <th>Romance</th>\n",
       "      <th>Sci-Fi</th>\n",
       "      <th>Short</th>\n",
       "      <th>Sport</th>\n",
       "      <th>Talk-Show</th>\n",
       "      <th>Thriller</th>\n",
       "      <th>War</th>\n",
       "      <th>Western</th>\n",
       "    </tr>\n",
       "  </thead>\n",
       "  <tbody>\n",
       "    <tr>\n",
       "      <th>0</th>\n",
       "      <td>\"#7DaysLater\" (2013)</td>\n",
       "      <td>#7dayslater is an interactive comedy series f...</td>\n",
       "      <td>0</td>\n",
       "      <td>0</td>\n",
       "      <td>0</td>\n",
       "      <td>0</td>\n",
       "      <td>0</td>\n",
       "      <td>1</td>\n",
       "      <td>0</td>\n",
       "      <td>0</td>\n",
       "      <td>...</td>\n",
       "      <td>0</td>\n",
       "      <td>0</td>\n",
       "      <td>0</td>\n",
       "      <td>0</td>\n",
       "      <td>0</td>\n",
       "      <td>0</td>\n",
       "      <td>0</td>\n",
       "      <td>0</td>\n",
       "      <td>0</td>\n",
       "      <td>0</td>\n",
       "    </tr>\n",
       "    <tr>\n",
       "      <th>1</th>\n",
       "      <td>\"#BlackLove\" (2015) {Crash the Party (#1.9)}</td>\n",
       "      <td>With just one week left in the workshops, the...</td>\n",
       "      <td>0</td>\n",
       "      <td>0</td>\n",
       "      <td>0</td>\n",
       "      <td>0</td>\n",
       "      <td>0</td>\n",
       "      <td>0</td>\n",
       "      <td>0</td>\n",
       "      <td>0</td>\n",
       "      <td>...</td>\n",
       "      <td>0</td>\n",
       "      <td>1</td>\n",
       "      <td>0</td>\n",
       "      <td>0</td>\n",
       "      <td>0</td>\n",
       "      <td>0</td>\n",
       "      <td>0</td>\n",
       "      <td>0</td>\n",
       "      <td>0</td>\n",
       "      <td>0</td>\n",
       "    </tr>\n",
       "    <tr>\n",
       "      <th>2</th>\n",
       "      <td>\"#BlackLove\" (2015) {Making Lemonade Out of Le...</td>\n",
       "      <td>All of the women start making strides towards...</td>\n",
       "      <td>0</td>\n",
       "      <td>0</td>\n",
       "      <td>0</td>\n",
       "      <td>0</td>\n",
       "      <td>0</td>\n",
       "      <td>0</td>\n",
       "      <td>0</td>\n",
       "      <td>0</td>\n",
       "      <td>...</td>\n",
       "      <td>0</td>\n",
       "      <td>1</td>\n",
       "      <td>0</td>\n",
       "      <td>0</td>\n",
       "      <td>0</td>\n",
       "      <td>0</td>\n",
       "      <td>0</td>\n",
       "      <td>0</td>\n",
       "      <td>0</td>\n",
       "      <td>0</td>\n",
       "    </tr>\n",
       "    <tr>\n",
       "      <th>3</th>\n",
       "      <td>\"#BlackLove\" (2015) {Miss Independent (#1.5)}</td>\n",
       "      <td>All five of these women are independent and s...</td>\n",
       "      <td>0</td>\n",
       "      <td>0</td>\n",
       "      <td>0</td>\n",
       "      <td>0</td>\n",
       "      <td>0</td>\n",
       "      <td>0</td>\n",
       "      <td>0</td>\n",
       "      <td>0</td>\n",
       "      <td>...</td>\n",
       "      <td>0</td>\n",
       "      <td>1</td>\n",
       "      <td>0</td>\n",
       "      <td>0</td>\n",
       "      <td>0</td>\n",
       "      <td>0</td>\n",
       "      <td>0</td>\n",
       "      <td>0</td>\n",
       "      <td>0</td>\n",
       "      <td>0</td>\n",
       "    </tr>\n",
       "    <tr>\n",
       "      <th>4</th>\n",
       "      <td>\"#BlackLove\" (2015) {Sealing the Deal (#1.10)}</td>\n",
       "      <td>Despite having gone through a life changing p...</td>\n",
       "      <td>0</td>\n",
       "      <td>0</td>\n",
       "      <td>0</td>\n",
       "      <td>0</td>\n",
       "      <td>0</td>\n",
       "      <td>0</td>\n",
       "      <td>0</td>\n",
       "      <td>0</td>\n",
       "      <td>...</td>\n",
       "      <td>0</td>\n",
       "      <td>1</td>\n",
       "      <td>0</td>\n",
       "      <td>0</td>\n",
       "      <td>0</td>\n",
       "      <td>0</td>\n",
       "      <td>0</td>\n",
       "      <td>0</td>\n",
       "      <td>0</td>\n",
       "      <td>0</td>\n",
       "    </tr>\n",
       "  </tbody>\n",
       "</table>\n",
       "<p>5 rows × 30 columns</p>\n",
       "</div>"
      ],
      "text/plain": [
       "                                               title  \\\n",
       "0                               \"#7DaysLater\" (2013)   \n",
       "1       \"#BlackLove\" (2015) {Crash the Party (#1.9)}   \n",
       "2  \"#BlackLove\" (2015) {Making Lemonade Out of Le...   \n",
       "3      \"#BlackLove\" (2015) {Miss Independent (#1.5)}   \n",
       "4     \"#BlackLove\" (2015) {Sealing the Deal (#1.10)}   \n",
       "\n",
       "                                                plot  Action  Adult  \\\n",
       "0   #7dayslater is an interactive comedy series f...       0      0   \n",
       "1   With just one week left in the workshops, the...       0      0   \n",
       "2   All of the women start making strides towards...       0      0   \n",
       "3   All five of these women are independent and s...       0      0   \n",
       "4   Despite having gone through a life changing p...       0      0   \n",
       "\n",
       "   Adventure  Animation  Biography  Comedy  Crime  Documentary   ...     News  \\\n",
       "0          0          0          0       1      0            0   ...        0   \n",
       "1          0          0          0       0      0            0   ...        0   \n",
       "2          0          0          0       0      0            0   ...        0   \n",
       "3          0          0          0       0      0            0   ...        0   \n",
       "4          0          0          0       0      0            0   ...        0   \n",
       "\n",
       "   Reality-TV  Romance  Sci-Fi  Short  Sport  Talk-Show  Thriller  War  \\\n",
       "0           0        0       0      0      0          0         0    0   \n",
       "1           1        0       0      0      0          0         0    0   \n",
       "2           1        0       0      0      0          0         0    0   \n",
       "3           1        0       0      0      0          0         0    0   \n",
       "4           1        0       0      0      0          0         0    0   \n",
       "\n",
       "   Western  \n",
       "0        0  \n",
       "1        0  \n",
       "2        0  \n",
       "3        0  \n",
       "4        0  \n",
       "\n",
       "[5 rows x 30 columns]"
      ]
     },
     "execution_count": 2,
     "metadata": {},
     "output_type": "execute_result"
    }
   ],
   "source": [
    "df = pd.read_csv('1.csv', delimiter='\\t')\n",
    "df.head()"
   ]
  },
  {
   "cell_type": "code",
   "execution_count": 3,
   "metadata": {},
   "outputs": [],
   "source": [
    "df = df.drop('title', axis =1)"
   ]
  },
  {
   "cell_type": "code",
   "execution_count": 4,
   "metadata": {},
   "outputs": [],
   "source": [
    "#split data into training set and testing set\n",
    "from sklearn.model_selection import train_test_split\n",
    "\n",
    "train, test = train_test_split(df, random_state=42, test_size=0.20, shuffle=True)\n",
    "\n",
    "\n",
    "train_text = train['plot']\n",
    "test_text = test['plot']"
   ]
  },
  {
   "cell_type": "code",
   "execution_count": 5,
   "metadata": {},
   "outputs": [],
   "source": [
    "#convert the dataframe into numpy array\n",
    "train_text = np.array(train_text)\n",
    "test_text = np.array(test_text)\n"
   ]
  },
  {
   "cell_type": "code",
   "execution_count": 6,
   "metadata": {},
   "outputs": [
    {
     "name": "stdout",
     "output_type": "stream",
     "text": [
      "[\"train_text\\n nebuchadnezzar orders that all hebrew boys be brought to his palace in babylon. daniel, along with hananiah, mishael, and azariah, are captured and taken to the palace. they are to be trained alongside babylonian boys to become wise men and are given babylonian names. david demands that the israelites be given their own food, and they become much healthier than their babylonian counterparts. god gives daniel and his friends great wisdom. to daniel, god gives the special power to interpret dreams. the king has frightening dream and when daniel interprets the dream, the king makes daniel and the hebrews his closest advisors. the king has a magnificent golden statue built and demands that all worship the idol. when daniel's three friends refuse, nebuchadenzzar has them thrown into a fiery oven. an angel of god appears and protects them in the furnace. time passes. daniel becomes the closest advisor to darius, the new king. responding to the jealousy of other court officers who know that daniel will never worship an idol, darius issues a edict that all shall worship his statue. daniel refuses to obey the decree and is thrown into a den of lions. god protects him and darius recognizes that daniel's god is the one true and just god. darius frees daniel from the lions and issues a final decree: all of this people shall worship the god of daniel - the all powerful and just god of the hebrews.\"\n",
      " \"train_text\\n janice is a beautiful 17 year old who longs to be free from the influence of her guardian aunt may. she also wants to get out of the small town she's in. she asks her boyfriend stan to marry her so that they can run away. since he doesn't have a job, he keeps putting of the marriage. janice do something herself. she meets a man named tex and lures him home for a drink. when she hears a car outside she starts fighting with tex. she rips her clothes and knocks over furniture. a policeman who sees janice with tex enters the house. upon entering the house, he discovers aunt may's body. janice tells the policeman that tex killed her. the policeman accepts the girl's story. then, however, stan arrives. having gotten a job he had come by the house to take janice away. he found aunt may's body lying in the spot where janice left it after pushing her down the stairs.\"\n",
      " \"train_text\\n in dodge city, kansas bat saves an elderly leader grasia of a nearby gypsy troop. he returns with grasia to his camp where grasia offers different gifts for saving his life including a white horse and gems. he notices bat's interest in the gypsy girl leda who he offers against not only her objections but those of tonio who has been cool toward bat. bat at first objects but when grasia informs him leda is not a gypsy but was found as a ten year old near a wagon train massacred by indians, bat changes his mind. although tonio puts up a fight, grasia lets bat leave with her. after they leave tonio tells grasia that he found leda with papers saying at twenty-one she inherits $50,000. grasia then allows tonio and mitgar to go after her. bat sends a telegram based on what leda tells him to her relatives in san francisco. they reply with the story about her inheritance. tonio and mitgar try to take bat but he tricks tonio into exposing the truth about his love - for money. they take bat and leda back to camp by force to marry her. bat has to use his ingenuity to not only get away but allow leda to leave for san francisco.\"\n",
      " \"train_text\\n when australian story broke the news that hazel hawke had alzheimer's disease last november, the logie award-winning program was watched by a record audience. more importantly, public awareness of dementia, acknowledged as one of the biggest medical challenges to the ageing baby boomer generation, also soared. with disarming frankness, hazel and her family and friends described in the program the effects of the illness on their lives and explained the reasons behind their decision to go public. hazel hawke had never shirked from talking openly about tough personal issues when they were also community issues. as wife of the prime minister in the 1980s, she blazed a trail by bringing a number of matters out in the open, when she felt it would be for the greater good. but confronting and speaking poignantly on national television about the onset of her illness, perhaps her toughest challenge yet, won her much admiration. she also subsequently announced a special fund called the hazel hawke alzheimer's research and care fund to raise money for research and help people living with dementia and their families. in acknowledgment of the growing prevalence of alzheimer's in our society, and as a forerunner to dementia awareness week from september 19-25, australian story repeats this inspiring and important story.\"\n",
      " 'train_text\\n annette goes ahead with the ranch visit with uncle archie, despite even jet trying to talk her into taking the hayride instead. on the way, uncle and niece suffer a flat tire, and while fixing it they spot the hay wagon full of singing teens. uncle archie learns what annette has given up rather than let him down.']\n",
      "[\"test_text\\n larry is off on an extended business trip, on which louise will accompany him. in the meantime, darrin is stuck at the office covering off larry's work in addition to doing his own. samantha, who is lonely while darrin is working these extended hours, accepts endora's offer for some company by going to lunch... in paris. what samantha is unaware of is that larry's business trip is to paris, where she and endora run into the tates. although samantha did not tell darrin of this paris trip with endora, larry gets word back to darrin that he and louise ran into samantha and endora. this trip eventually opens up a discussion between samantha and darrin about samantha's use of witchcraft, and perhaps that darrin is stifling who samantha really is by making her live as a mortal.\"\n",
      " 'test_text\\n sara, a wealthy and imaginative young girl, raised in india, is placed in a london boarding school by her army officer father. but when her father dies, after losing his fortune, the headmistress turns sara into servant. she is forced to rely upon her imagination and friends, old and new, to help her through adversity, until a mysterious neighbour comes to her rescue.'\n",
      " 'test_text\\n 26-year-old carmela is a restaurant manager in bayonne, nj, who has found herself sinking into debt because of her pricey shopping habits. over a third of her monthly income goes to clothes, makeup, tanning, nails and cigarettes. engaged to her fiancé, marcus, she also owes her future in-laws thousands of dollars in \"loans.\" but despite all her money troubles, carmella still expects to have her big, expensive italian dream wedding. with the help of money coach farnoosh torabi, carmela\\'s parents, mary and joseph, team up to give their daughter a wake-up call about the realities of her wedding expectations vs. her actual budget'\n",
      " 'test_text\\n \"heroin in the heartland\" rebroadcasts a segment on the growing crisis of heroin addiction in middle to upper class suburbia. \"christopher wheeldon\" rebroadcasts a profile of the celebrated and award-winning ballet choreographer. \"bonobos\" rebroadcasts a look at the fascinating primate that is as close to human as the chimpanzee.'\n",
      " \"test_text\\n after an uprising of miners on the asteroid toros, the mining operator kerk belzak wishes to replace the human workers with robotic drones. he kidnaps twiki so he can investigate the diminutive drone's unique circuitry and make cheap duplicates of twiki to work in his mine. buck rogers goes after belzak's enforcers, the omniguard, three female paranormals with psychokinetic powers to save twiki. meanwhile, wilma deering has her hands full with a huge floating chunk of frozen oxygen that could destroy most of earth's population once the iceberg veers off course.\"]\n"
     ]
    }
   ],
   "source": [
    "#convert training and test set plot into lowercase\n",
    "for pl in range(len(train_text)):\n",
    "    train_text[pl] = train_text[pl].lower()\n",
    "print(\"train_text\\n\" + train_text[:5])    \n",
    "    \n",
    "for pl1 in range(len(test_text)):\n",
    "    test_text[pl1] = test_text[pl1].lower()\n",
    "print(\"test_text\\n\" + test_text[:5])\n"
   ]
  },
  {
   "cell_type": "code",
   "execution_count": 7,
   "metadata": {},
   "outputs": [
    {
     "name": "stdout",
     "output_type": "stream",
     "text": [
      "['train_text\\n nebuchadnezzar orders that all hebrew boys be brought to his palace in babylon daniel along with hananiah mishael and azariah are captured and taken to the palace they are to be trained alongside babylonian boys to become wise men and are given babylonian names david demands that the israelites be given their own food and they become much healthier than their babylonian counterparts god gives daniel and his friends great wisdom to daniel god gives the special power to interpret dreams the king has frightening dream and when daniel interprets the dream the king makes daniel and the hebrews his closest advisors the king has a magnificent golden statue built and demands that all worship the idol when daniel s three friends refuse nebuchadenzzar has them thrown into a fiery oven an angel of god appears and protects them in the furnace time passes daniel becomes the closest advisor to darius the new king responding to the jealousy of other court officers who know that daniel will never worship an idol darius issues a edict that all shall worship his statue daniel refuses to obey the decree and is thrown into a den of lions god protects him and darius recognizes that daniel s god is the one true and just god darius frees daniel from the lions and issues a final decree all of this people shall worship the god of daniel the all powerful and just god of the hebrews '\n",
      " 'train_text\\n janice is a beautiful year old who longs to be free from the influence of her guardian aunt may she also wants to get out of the small town she s in she asks her boyfriend stan to marry her so that they can run away since he doesn t have a job he keeps putting of the marriage janice do something herself she meets a man named tex and lures him home for a drink when she hears a car outside she starts fighting with tex she rips her clothes and knocks over furniture a policeman who sees janice with tex enters the house upon entering the house he discovers aunt may s body janice tells the policeman that tex killed her the policeman accepts the girl s story then however stan arrives having gotten a job he had come by the house to take janice away he found aunt may s body lying in the spot where janice left it after pushing her down the stairs '\n",
      " 'train_text\\n in dodge city kansas bat saves an elderly leader grasia of a nearby gypsy troop he returns with grasia to his camp where grasia offers different gifts for saving his life including a white horse and gems he notices bat s interest in the gypsy girl leda who he offers against not only her objections but those of tonio who has been cool toward bat bat at first objects but when grasia informs him leda is not a gypsy but was found as a ten year old near a wagon train massacred by indians bat changes his mind although tonio puts up a fight grasia lets bat leave with her after they leave tonio tells grasia that he found leda with papers saying at twenty one she inherits grasia then allows tonio and mitgar to go after her bat sends a telegram based on what leda tells him to her relatives in san francisco they reply with the story about her inheritance tonio and mitgar try to take bat but he tricks tonio into exposing the truth about his love for money they take bat and leda back to camp by force to marry her bat has to use his ingenuity to not only get away but allow leda to leave for san francisco '\n",
      " 'train_text\\n when australian story broke the news that hazel hawke had alzheimer s disease last november the logie award winning program was watched by a record audience more importantly public awareness of dementia acknowledged as one of the biggest medical challenges to the ageing baby boomer generation also soared with disarming frankness hazel and her family and friends described in the program the effects of the illness on their lives and explained the reasons behind their decision to go public hazel hawke had never shirked from talking openly about tough personal issues when they were also community issues as wife of the prime minister in the s she blazed a trail by bringing a number of matters out in the open when she felt it would be for the greater good but confronting and speaking poignantly on national television about the onset of her illness perhaps her toughest challenge yet won her much admiration she also subsequently announced a special fund called the hazel hawke alzheimer s research and care fund to raise money for research and help people living with dementia and their families in acknowledgment of the growing prevalence of alzheimer s in our society and as a forerunner to dementia awareness week from september australian story repeats this inspiring and important story '\n",
      " 'train_text\\n annette goes ahead with the ranch visit with uncle archie despite even jet trying to talk her into taking the hayride instead on the way uncle and niece suffer a flat tire and while fixing it they spot the hay wagon full of singing teens uncle archie learns what annette has given up rather than let him down ']\n",
      "['test_text\\n larry is off on an extended business trip on which louise will accompany him in the meantime darrin is stuck at the office covering off larry s work in addition to doing his own samantha who is lonely while darrin is working these extended hours accepts endora s offer for some company by going to lunch in paris what samantha is unaware of is that larry s business trip is to paris where she and endora run into the tates although samantha did not tell darrin of this paris trip with endora larry gets word back to darrin that he and louise ran into samantha and endora this trip eventually opens up a discussion between samantha and darrin about samantha s use of witchcraft and perhaps that darrin is stifling who samantha really is by making her live as a mortal '\n",
      " 'test_text\\n sara a wealthy and imaginative young girl raised in india is placed in a london boarding school by her army officer father but when her father dies after losing his fortune the headmistress turns sara into servant she is forced to rely upon her imagination and friends old and new to help her through adversity until a mysterious neighbour comes to her rescue '\n",
      " 'test_text\\n year old carmela is a restaurant manager in bayonne nj who has found herself sinking into debt because of her pricey shopping habits over a third of her monthly income goes to clothes makeup tanning nails and cigarettes engaged to her fiancé marcus she also owes her future in laws thousands of dollars in loans but despite all her money troubles carmella still expects to have her big expensive italian dream wedding with the help of money coach farnoosh torabi carmela s parents mary and joseph team up to give their daughter a wake up call about the realities of her wedding expectations vs her actual budget'\n",
      " 'test_text\\n heroin in the heartland rebroadcasts a segment on the growing crisis of heroin addiction in middle to upper class suburbia christopher wheeldon rebroadcasts a profile of the celebrated and award winning ballet choreographer bonobos rebroadcasts a look at the fascinating primate that is as close to human as the chimpanzee '\n",
      " 'test_text\\n after an uprising of miners on the asteroid toros the mining operator kerk belzak wishes to replace the human workers with robotic drones he kidnaps twiki so he can investigate the diminutive drone s unique circuitry and make cheap duplicates of twiki to work in his mine buck rogers goes after belzak s enforcers the omniguard three female paranormals with psychokinetic powers to save twiki meanwhile wilma deering has her hands full with a huge floating chunk of frozen oxygen that could destroy most of earth s population once the iceberg veers off course ']\n"
     ]
    }
   ],
   "source": [
    "#remove punctuations, extra spaces and digits from both the set\n",
    "for pl in range(len(train_text)):\n",
    "    train_text[pl]=  re.sub(r'\\W',' ',train_text[pl])\n",
    "    train_text[pl]=  re.sub(r'\\d',' ',train_text[pl])\n",
    "    train_text[pl]=  re.sub(r'\\s+',' ',train_text[pl])\n",
    "print(\"train_text\\n\" + train_text[:5])\n",
    "\n",
    "for pl1 in range(len(test_text)):\n",
    "    test_text[pl1]=  re.sub(r'\\W',' ',test_text[pl1])\n",
    "    test_text[pl1]=  re.sub(r'\\d',' ',test_text[pl1])\n",
    "    test_text[pl1]=  re.sub(r'\\s+',' ',test_text[pl1])\n",
    "print(\"test_text\\n\" + test_text[:5])"
   ]
  },
  {
   "cell_type": "code",
   "execution_count": 8,
   "metadata": {},
   "outputs": [
    {
     "name": "stdout",
     "output_type": "stream",
     "text": [
      "['train_text\\nnebuchadnezzar orders hebrew boys brought palace babylon daniel along hananiah mishael azariah captured taken palace trained alongside babylonian boys become wise men given babylonian names david demands israelites given food become much healthier babylonian counterparts god gives daniel friends great wisdom daniel god gives special power interpret dreams king frightening dream daniel interprets dream king makes daniel hebrews closest advisors king magnificent golden statue built demands worship idol daniel three friends refuse nebuchadenzzar thrown fiery oven angel god appears protects furnace time passes daniel becomes closest advisor darius new king responding jealousy court officers know daniel never worship idol darius issues edict shall worship statue daniel refuses obey decree thrown den lions god protects darius recognizes daniel god one true god darius frees daniel lions issues final decree people shall worship god daniel powerful god hebrews'\n",
      " 'train_text\\njanice beautiful year old longs free influence guardian aunt may also wants get small town asks boyfriend stan marry run away since job keeps putting marriage janice something meets man named tex lures home drink hears car outside starts fighting tex rips clothes knocks furniture policeman sees janice tex enters house upon entering house discovers aunt may body janice tells policeman tex killed policeman accepts girl story however stan arrives gotten job come house take janice away found aunt may body lying spot janice left pushing stairs'\n",
      " 'train_text\\ndodge city kansas bat saves elderly leader grasia nearby gypsy troop returns grasia camp grasia offers different gifts saving life including white horse gems notices bat interest gypsy girl leda offers objections tonio cool toward bat bat first objects grasia informs leda gypsy found ten year old near wagon train massacred indians bat changes mind although tonio puts fight grasia lets bat leave leave tonio tells grasia found leda papers saying twenty one inherits grasia allows tonio mitgar go bat sends telegram based leda tells relatives san francisco reply story inheritance tonio mitgar try take bat tricks tonio exposing truth love money take bat leda back camp force marry bat use ingenuity get away allow leda leave san francisco'\n",
      " 'train_text\\naustralian story broke news hazel hawke alzheimer disease last november logie award winning program watched record audience importantly public awareness dementia acknowledged one biggest medical challenges ageing baby boomer generation also soared disarming frankness hazel family friends described program effects illness lives explained reasons behind decision go public hazel hawke never shirked talking openly tough personal issues also community issues wife prime minister blazed trail bringing number matters open felt would greater good confronting speaking poignantly national television onset illness perhaps toughest challenge yet much admiration also subsequently announced special fund called hazel hawke alzheimer research care fund raise money research help people living dementia families acknowledgment growing prevalence alzheimer society forerunner dementia awareness week september australian story repeats inspiring important story'\n",
      " 'train_text\\nannette goes ahead ranch visit uncle archie despite even jet trying talk taking hayride instead way uncle niece suffer flat tire fixing spot hay wagon full singing teens uncle archie learns annette given rather let']\n",
      "['test_text\\nlarry extended business trip louise accompany meantime darrin stuck office covering larry work addition samantha lonely darrin working extended hours accepts endora offer company going lunch paris samantha unaware larry business trip paris endora run tates although samantha tell darrin paris trip endora larry gets word back darrin louise ran samantha endora trip eventually opens discussion samantha darrin samantha use witchcraft perhaps darrin stifling samantha really making live mortal'\n",
      " 'test_text\\nsara wealthy imaginative young girl raised india placed london boarding school army officer father father dies losing fortune headmistress turns sara servant forced rely upon imagination friends old new help adversity mysterious neighbour comes rescue'\n",
      " 'test_text\\nyear old carmela restaurant manager bayonne nj found sinking debt pricey shopping habits third monthly income goes clothes makeup tanning nails cigarettes engaged fiancé marcus also owes future laws thousands dollars loans despite money troubles carmella still expects big expensive italian dream wedding help money coach farnoosh torabi carmela parents mary joseph team give daughter wake call realities wedding expectations vs actual budget'\n",
      " 'test_text\\nheroin heartland rebroadcasts segment growing crisis heroin addiction middle upper class suburbia christopher wheeldon rebroadcasts profile celebrated award winning ballet choreographer bonobos rebroadcasts look fascinating primate close human chimpanzee'\n",
      " 'test_text\\nuprising miners asteroid toros mining operator kerk belzak wishes replace human workers robotic drones kidnaps twiki investigate diminutive drone unique circuitry make cheap duplicates twiki work mine buck rogers goes belzak enforcers omniguard three female paranormals psychokinetic powers save twiki meanwhile wilma deering hands full huge floating chunk frozen oxygen could destroy earth population iceberg veers course']\n"
     ]
    }
   ],
   "source": [
    "#remove stopwords from both sets\n",
    "from nltk.corpus import stopwords\n",
    "\n",
    "for i in range(len(train_text)):\n",
    "    words = nltk.word_tokenize(train_text[i])\n",
    "    new_words = [word for word in words if word not in stopwords.words('english')]\n",
    "    train_text[i] = ' '.join(new_words)\n",
    "print(\"train_text\\n\" + train_text[:5])\n",
    "    \n",
    "for i in range(len(test_text)):\n",
    "    words = nltk.word_tokenize(test_text[i])\n",
    "    new_words = [word for word in words if word not in stopwords.words('english')]\n",
    "    test_text[i] = ' '.join(new_words)\n",
    "print(\"test_text\\n\" + test_text[:5])"
   ]
  },
  {
   "cell_type": "code",
   "execution_count": 9,
   "metadata": {},
   "outputs": [
    {
     "name": "stdout",
     "output_type": "stream",
     "text": [
      "['train_text\\nnebuchadnezzar order hebrew boy brought palac babylon daniel along hananiah mishael azariah captur taken palac train alongsid babylonian boy becom wise men given babylonian name david demand israelit given food becom much healthier babylonian counterpart god give daniel friend great wisdom daniel god give special power interpret dream king frighten dream daniel interpret dream king make daniel hebrew closest advisor king magnific golden statu built demand worship idol daniel three friend refus nebuchadenzzar thrown fieri oven angel god appear protect furnac time pass daniel becom closest advisor dariu new king respond jealousi court offic know daniel never worship idol dariu issu edict shall worship statu daniel refus obey decre thrown den lion god protect dariu recogn daniel god one true god dariu free daniel lion issu final decre peopl shall worship god daniel power god hebrew'\n",
      " 'train_text\\njanic beauti year old long free influenc guardian aunt may also want get small town ask boyfriend stan marri run away sinc job keep put marriag janic someth meet man name tex lure home drink hear car outsid start fight tex rip cloth knock furnitur policeman see janic tex enter hous upon enter hous discov aunt may bodi janic tell policeman tex kill policeman accept girl stori howev stan arriv gotten job come hous take janic away found aunt may bodi lie spot janic left push stair'\n",
      " 'train_text\\ndodg citi kansa bat save elderli leader grasia nearbi gypsi troop return grasia camp grasia offer differ gift save life includ white hors gem notic bat interest gypsi girl leda offer object tonio cool toward bat bat first object grasia inform leda gypsi found ten year old near wagon train massacr indian bat chang mind although tonio put fight grasia let bat leav leav tonio tell grasia found leda paper say twenti one inherit grasia allow tonio mitgar go bat send telegram base leda tell rel san francisco repli stori inherit tonio mitgar tri take bat trick tonio expos truth love money take bat leda back camp forc marri bat use ingenu get away allow leda leav san francisco'\n",
      " 'train_text\\naustralian stori broke news hazel hawk alzheim diseas last novemb logi award win program watch record audienc importantli public awar dementia acknowledg one biggest medic challeng age babi boomer gener also soar disarm frank hazel famili friend describ program effect ill live explain reason behind decis go public hazel hawk never shirk talk openli tough person issu also commun issu wife prime minist blaze trail bring number matter open felt would greater good confront speak poignantli nation televis onset ill perhap toughest challeng yet much admir also subsequ announc special fund call hazel hawk alzheim research care fund rais money research help peopl live dementia famili acknowledg grow preval alzheim societi forerunn dementia awar week septemb australian stori repeat inspir import stori'\n",
      " 'train_text\\nannett goe ahead ranch visit uncl archi despit even jet tri talk take hayrid instead way uncl niec suffer flat tire fix spot hay wagon full sing teen uncl archi learn annett given rather let']\n",
      "['test_text\\nlarri extend busi trip louis accompani meantim darrin stuck offic cover larri work addit samantha lone darrin work extend hour accept endora offer compani go lunch pari samantha unawar larri busi trip pari endora run tate although samantha tell darrin pari trip endora larri get word back darrin louis ran samantha endora trip eventu open discuss samantha darrin samantha use witchcraft perhap darrin stifl samantha realli make live mortal'\n",
      " 'test_text\\nsara wealthi imagin young girl rais india place london board school armi offic father father die lose fortun headmistress turn sara servant forc reli upon imagin friend old new help advers mysteri neighbour come rescu'\n",
      " 'test_text\\nyear old carmela restaur manag bayonn nj found sink debt pricey shop habit third monthli incom goe cloth makeup tan nail cigarett engag fiancé marcu also owe futur law thousand dollar loan despit money troubl carmella still expect big expens italian dream wed help money coach farnoosh torabi carmela parent mari joseph team give daughter wake call realiti wed expect vs actual budget'\n",
      " 'test_text\\nheroin heartland rebroadcast segment grow crisi heroin addict middl upper class suburbia christoph wheeldon rebroadcast profil celebr award win ballet choreograph bonobo rebroadcast look fascin primat close human chimpanze'\n",
      " 'test_text\\nupris miner asteroid toro mine oper kerk belzak wish replac human worker robot drone kidnap twiki investig diminut drone uniqu circuitri make cheap duplic twiki work mine buck roger goe belzak enforc omniguard three femal paranorm psychokinet power save twiki meanwhil wilma deer hand full huge float chunk frozen oxygen could destroy earth popul iceberg veer cours']\n"
     ]
    }
   ],
   "source": [
    "# stemming\n",
    "from nltk.stem import PorterStemmer\n",
    "stemmer = PorterStemmer()\n",
    "\n",
    "for pl in range(len(train_text)):\n",
    "    words = nltk.word_tokenize(train_text[pl])\n",
    "    new_words = [stemmer.stem(word) for word in words]\n",
    "    train_text[pl] = ' '.join(new_words)\n",
    "print(\"train_text\\n\" + train_text[:5])\n",
    "    \n",
    "for pl1 in range(len(test_text)):\n",
    "    words = nltk.word_tokenize(test_text[pl1])\n",
    "    new_words = [stemmer.stem(word) for word in words]\n",
    "    test_text[pl1] = ' '.join(new_words)\n",
    "print(\"test_text\\n\" + test_text[:5])\n",
    "\n",
    "    "
   ]
  },
  {
   "cell_type": "code",
   "execution_count": 10,
   "metadata": {},
   "outputs": [
    {
     "data": {
      "text/plain": [
       "TfidfVectorizer(analyzer='word', binary=False, decode_error='strict',\n",
       "        dtype=<class 'numpy.int64'>, encoding='utf-8', input='content',\n",
       "        lowercase=True, max_df=1.0, max_features=None, min_df=1,\n",
       "        ngram_range=(1, 3), norm='l2', preprocessor=None, smooth_idf=True,\n",
       "        stop_words=None, strip_accents='unicode', sublinear_tf=False,\n",
       "        token_pattern='(?u)\\\\b\\\\w\\\\w+\\\\b', tokenizer=None, use_idf=True,\n",
       "        vocabulary=None)"
      ]
     },
     "execution_count": 10,
     "metadata": {},
     "output_type": "execute_result"
    }
   ],
   "source": [
    "#creating tf-idf model\n",
    "from sklearn.feature_extraction.text import TfidfVectorizer\n",
    "vectorizer = TfidfVectorizer(strip_accents='unicode', analyzer='word', ngram_range=(1,3), norm='l2')\n",
    "vectorizer.fit(train_text)\n",
    "vectorizer.fit(test_text)"
   ]
  },
  {
   "cell_type": "code",
   "execution_count": 11,
   "metadata": {},
   "outputs": [],
   "source": [
    "\n",
    "x_train = vectorizer.transform(train_text)\n",
    "y_train = train.drop('plot', axis=1)\n",
    "\n",
    "x_test = vectorizer.transform(test_text)\n",
    "y_test = test.drop('plot', axis=1)"
   ]
  },
  {
   "cell_type": "markdown",
   "metadata": {},
   "source": [
    "# Applying K-Nearest Neighbors Algorithm"
   ]
  },
  {
   "cell_type": "code",
   "execution_count": 12,
   "metadata": {},
   "outputs": [],
   "source": [
    "from sklearn.neighbors import KNeighborsClassifier\n",
    "neigh = KNeighborsClassifier(n_neighbors=3)\n",
    "neigh=neigh.fit(x_train, y_train)"
   ]
  },
  {
   "cell_type": "code",
   "execution_count": 13,
   "metadata": {},
   "outputs": [],
   "source": [
    "pred = neigh.predict(x_test)"
   ]
  },
  {
   "cell_type": "code",
   "execution_count": 14,
   "metadata": {},
   "outputs": [
    {
     "name": "stdout",
     "output_type": "stream",
     "text": [
      "0.6235\n"
     ]
    }
   ],
   "source": [
    "accuracy = neigh.score(x_test, y_test, sample_weight=None)\n",
    "print(accuracy)"
   ]
  },
  {
   "cell_type": "markdown",
   "metadata": {},
   "source": [
    "# Applying Decision Tree Algorithm"
   ]
  },
  {
   "cell_type": "code",
   "execution_count": 15,
   "metadata": {},
   "outputs": [],
   "source": [
    "from sklearn.model_selection import cross_val_score\n",
    "from sklearn.tree import DecisionTreeClassifier\n",
    "clf = DecisionTreeClassifier(random_state=0)\n",
    "clf = clf.fit(x_train, y_train, sample_weight=None, check_input=True, X_idx_sorted=None)"
   ]
  },
  {
   "cell_type": "code",
   "execution_count": 16,
   "metadata": {},
   "outputs": [],
   "source": [
    "pred1 = clf.predict(x_test, check_input=True)"
   ]
  },
  {
   "cell_type": "code",
   "execution_count": 17,
   "metadata": {},
   "outputs": [
    {
     "name": "stdout",
     "output_type": "stream",
     "text": [
      "0.2705\n"
     ]
    }
   ],
   "source": [
    "accuracy_decsn_tree = clf.score(x_test, y_test, sample_weight=None)\n",
    "print(accuracy_decsn_tree)"
   ]
  },
  {
   "cell_type": "markdown",
   "metadata": {},
   "source": [
    "# Applying MLP"
   ]
  },
  {
   "cell_type": "code",
   "execution_count": 18,
   "metadata": {},
   "outputs": [],
   "source": [
    "from sklearn.neural_network import MLPClassifier\n",
    "\n",
    "mlp_clf = MLPClassifier(random_state=0)"
   ]
  },
  {
   "cell_type": "code",
   "execution_count": 19,
   "metadata": {},
   "outputs": [],
   "source": [
    "mlp_clf = mlp_clf.fit(x_train,y_train)"
   ]
  },
  {
   "cell_type": "code",
   "execution_count": 20,
   "metadata": {},
   "outputs": [],
   "source": [
    "pred_mlp = mlp_clf.predict(x_test)\n"
   ]
  },
  {
   "cell_type": "code",
   "execution_count": 22,
   "metadata": {},
   "outputs": [
    {
     "name": "stdout",
     "output_type": "stream",
     "text": [
      "0.316\n"
     ]
    }
   ],
   "source": [
    "mlp_accuracy = mlp_clf.score(x_test,y_test, sample_weight = None)\n",
    "print(mlp_accuracy)"
   ]
  },
  {
   "cell_type": "code",
   "execution_count": null,
   "metadata": {},
   "outputs": [],
   "source": []
  }
 ],
 "metadata": {
  "kernelspec": {
   "display_name": "Python 3",
   "language": "python",
   "name": "python3"
  },
  "language_info": {
   "codemirror_mode": {
    "name": "ipython",
    "version": 3
   },
   "file_extension": ".py",
   "mimetype": "text/x-python",
   "name": "python",
   "nbconvert_exporter": "python",
   "pygments_lexer": "ipython3",
   "version": "3.6.5"
  }
 },
 "nbformat": 4,
 "nbformat_minor": 2
}
